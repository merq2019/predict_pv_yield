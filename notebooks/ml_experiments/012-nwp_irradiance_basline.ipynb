{
 "cells": [
  {
   "cell_type": "markdown",
   "metadata": {},
   "source": [
    "This notebook follows on from `006-network_structure_tests.ipynb`. In that notebook the best MSE on the test was `0.024` and the best MAE was `0.107`. In this notebook I want to create some baseline models to compare these to. In that notebook the best scores (for nowcasting only) were for the satellite images alone. Adding the NWP did nothing to improve the scores above sat images alone and the NWP alone were pretty poor in comparison. I want to know whether having bigger rectangles for the NWP might make the predictions better (also control for sat with bigger rectangles).\n",
    "\n",
    "Also move to GPU to speed up bigger convolutions.\n",
    "\n",
    "### Index\n",
    "- [Loading and processing PV](#loading_pv)\n",
    "- [Choosing NWP channels to load](#nwp_channels)\n",
    "- [Choosing sat channels to load](#sat_channels)\n",
    "- [Defining shuffle](#define_shuffle)\n",
    "- [Defining network factory function](#network_factory)\n",
    "- [Set up batch loader](#loader)\n",
    "- [Create first round of networks](#nets1)\n",
    "- [Train first round of networks](#train1)\n",
    "- [Evaluate first round of networks](#results1)\n"
   ]
  },
  {
   "cell_type": "code",
   "execution_count": 1,
   "metadata": {},
   "outputs": [
    {
     "name": "stderr",
     "output_type": "stream",
     "text": [
      "/opt/conda/lib/python3.7/site-packages/pvlib/solarposition.py:265: UserWarning: Reloading spa to use numba\n",
      "  warnings.warn('Reloading spa to use numba')\n"
     ]
    }
   ],
   "source": [
    "import xarray as xr\n",
    "import pandas as pd\n",
    "import numpy as np\n",
    "\n",
    "import seaborn as sns\n",
    "import matplotlib.pyplot as plt\n",
    "\n",
    "import time\n",
    "import glob\n",
    "import json\n",
    "import os\n",
    "\n",
    "from sklearn.utils import shuffle \n",
    "\n",
    "import src"
   ]
  },
  {
   "cell_type": "code",
   "execution_count": 2,
   "metadata": {},
   "outputs": [
    {
     "data": {
      "text/plain": [
       "<module 'src.data.batch_loader' from '/home/davidjamesfulton93/repos/predict_pv_yield/src/data/batch_loader.py'>"
      ]
     },
     "execution_count": 2,
     "metadata": {},
     "output_type": "execute_result"
    }
   ],
   "source": [
    "# in case we find any bugs to hot fix\n",
    "import imp\n",
    "imp.reload(src.data.batch_loader)"
   ]
  },
  {
   "cell_type": "markdown",
   "metadata": {},
   "source": [
    "### Loading and processing PV\n",
    "<a id='loading_pv'></a>"
   ]
  },
  {
   "cell_type": "code",
   "execution_count": 3,
   "metadata": {},
   "outputs": [],
   "source": [
    "pv_metadata_df = src.data.load_pv.load_pv_metadata(\"~/repos/predict_pv_yield/data/\"+src.data.load_pv.PV_METADATA_FILEPATH)"
   ]
  },
  {
   "cell_type": "code",
   "execution_count": 4,
   "metadata": {},
   "outputs": [
    {
     "data": {
      "text/html": [
       "<div>\n",
       "<style scoped>\n",
       "    .dataframe tbody tr th:only-of-type {\n",
       "        vertical-align: middle;\n",
       "    }\n",
       "\n",
       "    .dataframe tbody tr th {\n",
       "        vertical-align: top;\n",
       "    }\n",
       "\n",
       "    .dataframe thead th {\n",
       "        text-align: right;\n",
       "    }\n",
       "</style>\n",
       "<table border=\"1\" class=\"dataframe\">\n",
       "  <thead>\n",
       "    <tr style=\"text-align: right;\">\n",
       "      <th></th>\n",
       "      <th>system_name</th>\n",
       "      <th>system_size_watts</th>\n",
       "      <th>postcode</th>\n",
       "      <th>number_of_panels</th>\n",
       "      <th>panel_power_watts</th>\n",
       "      <th>panel_brand</th>\n",
       "      <th>num_inverters</th>\n",
       "      <th>inverter_power_watts</th>\n",
       "      <th>inverter_brand</th>\n",
       "      <th>orientation</th>\n",
       "      <th>...</th>\n",
       "      <th>install_date</th>\n",
       "      <th>latitude</th>\n",
       "      <th>longitude</th>\n",
       "      <th>status_interval_minutes</th>\n",
       "      <th>number_of_panels_secondary</th>\n",
       "      <th>panel_power_watts_secondary</th>\n",
       "      <th>orientation_secondary</th>\n",
       "      <th>array_tilt_degrees_secondary</th>\n",
       "      <th>x</th>\n",
       "      <th>y</th>\n",
       "    </tr>\n",
       "    <tr>\n",
       "      <th>system_id</th>\n",
       "      <th></th>\n",
       "      <th></th>\n",
       "      <th></th>\n",
       "      <th></th>\n",
       "      <th></th>\n",
       "      <th></th>\n",
       "      <th></th>\n",
       "      <th></th>\n",
       "      <th></th>\n",
       "      <th></th>\n",
       "      <th></th>\n",
       "      <th></th>\n",
       "      <th></th>\n",
       "      <th></th>\n",
       "      <th></th>\n",
       "      <th></th>\n",
       "      <th></th>\n",
       "      <th></th>\n",
       "      <th></th>\n",
       "      <th></th>\n",
       "      <th></th>\n",
       "    </tr>\n",
       "  </thead>\n",
       "  <tbody>\n",
       "    <tr>\n",
       "      <th>690</th>\n",
       "      <td>3.8kw of Power @ No3</td>\n",
       "      <td>3800</td>\n",
       "      <td>NaN</td>\n",
       "      <td>20</td>\n",
       "      <td>190</td>\n",
       "      <td>Phono Solar</td>\n",
       "      <td>1</td>\n",
       "      <td>4000</td>\n",
       "      <td>SMA Sunny Boy 4000</td>\n",
       "      <td>S</td>\n",
       "      <td>...</td>\n",
       "      <td>2010-12-01 00:00:00</td>\n",
       "      <td>52.087171</td>\n",
       "      <td>-0.263414</td>\n",
       "      <td>10</td>\n",
       "      <td>0</td>\n",
       "      <td>0</td>\n",
       "      <td>NaN</td>\n",
       "      <td>NaN</td>\n",
       "      <td>519080.191006</td>\n",
       "      <td>244623.301288</td>\n",
       "    </tr>\n",
       "    <tr>\n",
       "      <th>709</th>\n",
       "      <td>Grove Cottages</td>\n",
       "      <td>2460</td>\n",
       "      <td>RG4</td>\n",
       "      <td>12</td>\n",
       "      <td>205</td>\n",
       "      <td>Romag PowerGlaz SMT6(54)P</td>\n",
       "      <td>1</td>\n",
       "      <td>3000</td>\n",
       "      <td>SMA Sunny Boy 3000TL</td>\n",
       "      <td>SE</td>\n",
       "      <td>...</td>\n",
       "      <td>2010-09-28 00:00:00</td>\n",
       "      <td>51.485329</td>\n",
       "      <td>-0.967526</td>\n",
       "      <td>5</td>\n",
       "      <td>0</td>\n",
       "      <td>0</td>\n",
       "      <td>NaN</td>\n",
       "      <td>NaN</td>\n",
       "      <td>471786.316866</td>\n",
       "      <td>176769.072244</td>\n",
       "    </tr>\n",
       "    <tr>\n",
       "      <th>777</th>\n",
       "      <td>Underfell1</td>\n",
       "      <td>3420</td>\n",
       "      <td>NaN</td>\n",
       "      <td>18</td>\n",
       "      <td>190</td>\n",
       "      <td>Schuco MPE 190 MS 05</td>\n",
       "      <td>1</td>\n",
       "      <td>4000</td>\n",
       "      <td>SMA Sunny Boy 4000TL</td>\n",
       "      <td>SW</td>\n",
       "      <td>...</td>\n",
       "      <td>2010-10-29 00:00:00</td>\n",
       "      <td>54.197863</td>\n",
       "      <td>-2.938757</td>\n",
       "      <td>10</td>\n",
       "      <td>0</td>\n",
       "      <td>0</td>\n",
       "      <td>NaN</td>\n",
       "      <td>NaN</td>\n",
       "      <td>338853.840270</td>\n",
       "      <td>478417.935178</td>\n",
       "    </tr>\n",
       "    <tr>\n",
       "      <th>794</th>\n",
       "      <td>Roofline</td>\n",
       "      <td>3700</td>\n",
       "      <td>GU34</td>\n",
       "      <td>20</td>\n",
       "      <td>185</td>\n",
       "      <td>Sharp</td>\n",
       "      <td>1</td>\n",
       "      <td>4000</td>\n",
       "      <td>SMA</td>\n",
       "      <td>SE</td>\n",
       "      <td>...</td>\n",
       "      <td>2011-01-05 00:00:00</td>\n",
       "      <td>51.112485</td>\n",
       "      <td>-1.032715</td>\n",
       "      <td>5</td>\n",
       "      <td>0</td>\n",
       "      <td>0</td>\n",
       "      <td>NaN</td>\n",
       "      <td>NaN</td>\n",
       "      <td>467806.490433</td>\n",
       "      <td>135244.187025</td>\n",
       "    </tr>\n",
       "    <tr>\n",
       "      <th>973</th>\n",
       "      <td>number38</td>\n",
       "      <td>4000</td>\n",
       "      <td>WA11</td>\n",
       "      <td>16</td>\n",
       "      <td>250</td>\n",
       "      <td>Sungrid/SG250M6</td>\n",
       "      <td>1</td>\n",
       "      <td>3800</td>\n",
       "      <td>Sunny Boy 3800</td>\n",
       "      <td>SW</td>\n",
       "      <td>...</td>\n",
       "      <td>2011-01-13 00:00:00</td>\n",
       "      <td>53.467927</td>\n",
       "      <td>-2.675806</td>\n",
       "      <td>5</td>\n",
       "      <td>0</td>\n",
       "      <td>0</td>\n",
       "      <td>NaN</td>\n",
       "      <td>NaN</td>\n",
       "      <td>355234.617987</td>\n",
       "      <td>397009.685712</td>\n",
       "    </tr>\n",
       "  </tbody>\n",
       "</table>\n",
       "<p>5 rows × 22 columns</p>\n",
       "</div>"
      ],
      "text/plain": [
       "                    system_name  system_size_watts postcode  number_of_panels  \\\n",
       "system_id                                                                       \n",
       "690        3.8kw of Power @ No3               3800      NaN                20   \n",
       "709              Grove Cottages               2460      RG4                12   \n",
       "777                  Underfell1               3420      NaN                18   \n",
       "794                    Roofline               3700     GU34                20   \n",
       "973                    number38               4000     WA11                16   \n",
       "\n",
       "           panel_power_watts                panel_brand  num_inverters  \\\n",
       "system_id                                                                \n",
       "690                      190                Phono Solar              1   \n",
       "709                      205  Romag PowerGlaz SMT6(54)P              1   \n",
       "777                      190       Schuco MPE 190 MS 05              1   \n",
       "794                      185                      Sharp              1   \n",
       "973                      250            Sungrid/SG250M6              1   \n",
       "\n",
       "           inverter_power_watts        inverter_brand orientation  ...  \\\n",
       "system_id                                                          ...   \n",
       "690                        4000    SMA Sunny Boy 4000           S  ...   \n",
       "709                        3000  SMA Sunny Boy 3000TL          SE  ...   \n",
       "777                        4000  SMA Sunny Boy 4000TL          SW  ...   \n",
       "794                        4000                   SMA          SE  ...   \n",
       "973                        3800        Sunny Boy 3800          SW  ...   \n",
       "\n",
       "                  install_date   latitude longitude  status_interval_minutes  \\\n",
       "system_id                                                                      \n",
       "690        2010-12-01 00:00:00  52.087171 -0.263414                       10   \n",
       "709        2010-09-28 00:00:00  51.485329 -0.967526                        5   \n",
       "777        2010-10-29 00:00:00  54.197863 -2.938757                       10   \n",
       "794        2011-01-05 00:00:00  51.112485 -1.032715                        5   \n",
       "973        2011-01-13 00:00:00  53.467927 -2.675806                        5   \n",
       "\n",
       "           number_of_panels_secondary  panel_power_watts_secondary  \\\n",
       "system_id                                                            \n",
       "690                                 0                            0   \n",
       "709                                 0                            0   \n",
       "777                                 0                            0   \n",
       "794                                 0                            0   \n",
       "973                                 0                            0   \n",
       "\n",
       "           orientation_secondary  array_tilt_degrees_secondary              x  \\\n",
       "system_id                                                                       \n",
       "690                          NaN                           NaN  519080.191006   \n",
       "709                          NaN                           NaN  471786.316866   \n",
       "777                          NaN                           NaN  338853.840270   \n",
       "794                          NaN                           NaN  467806.490433   \n",
       "973                          NaN                           NaN  355234.617987   \n",
       "\n",
       "                       y  \n",
       "system_id                 \n",
       "690        244623.301288  \n",
       "709        176769.072244  \n",
       "777        478417.935178  \n",
       "794        135244.187025  \n",
       "973        397009.685712  \n",
       "\n",
       "[5 rows x 22 columns]"
      ]
     },
     "execution_count": 4,
     "metadata": {},
     "output_type": "execute_result"
    }
   ],
   "source": [
    "pv_metadata_df.head()"
   ]
  },
  {
   "cell_type": "code",
   "execution_count": 5,
   "metadata": {},
   "outputs": [],
   "source": [
    "pv_power_df = src.data.load_pv.load_pv_power(filepath=\"~/repos/predict_pv_yield/data/\"+src.data.load_pv.PV_DATA_FILEPATH, \n",
    "                                             start='2018-01-01', end='2019-12-31')"
   ]
  },
  {
   "cell_type": "code",
   "execution_count": 6,
   "metadata": {},
   "outputs": [],
   "source": [
    "pv_power_df = pv_power_df.dropna(axis=0, how='all')"
   ]
  },
  {
   "cell_type": "code",
   "execution_count": 7,
   "metadata": {},
   "outputs": [
    {
     "data": {
      "text/html": [
       "<div>\n",
       "<style scoped>\n",
       "    .dataframe tbody tr th:only-of-type {\n",
       "        vertical-align: middle;\n",
       "    }\n",
       "\n",
       "    .dataframe tbody tr th {\n",
       "        vertical-align: top;\n",
       "    }\n",
       "\n",
       "    .dataframe thead th {\n",
       "        text-align: right;\n",
       "    }\n",
       "</style>\n",
       "<table border=\"1\" class=\"dataframe\">\n",
       "  <thead>\n",
       "    <tr style=\"text-align: right;\">\n",
       "      <th></th>\n",
       "      <th>690</th>\n",
       "      <th>709</th>\n",
       "      <th>794</th>\n",
       "      <th>973</th>\n",
       "      <th>1364</th>\n",
       "      <th>1556</th>\n",
       "      <th>1627</th>\n",
       "      <th>1646</th>\n",
       "      <th>1647</th>\n",
       "      <th>1872</th>\n",
       "      <th>...</th>\n",
       "      <th>68000</th>\n",
       "      <th>68212</th>\n",
       "      <th>68218</th>\n",
       "      <th>68219</th>\n",
       "      <th>68303</th>\n",
       "      <th>68324</th>\n",
       "      <th>68404</th>\n",
       "      <th>68443</th>\n",
       "      <th>68800</th>\n",
       "      <th>68846</th>\n",
       "    </tr>\n",
       "    <tr>\n",
       "      <th>datetime</th>\n",
       "      <th></th>\n",
       "      <th></th>\n",
       "      <th></th>\n",
       "      <th></th>\n",
       "      <th></th>\n",
       "      <th></th>\n",
       "      <th></th>\n",
       "      <th></th>\n",
       "      <th></th>\n",
       "      <th></th>\n",
       "      <th></th>\n",
       "      <th></th>\n",
       "      <th></th>\n",
       "      <th></th>\n",
       "      <th></th>\n",
       "      <th></th>\n",
       "      <th></th>\n",
       "      <th></th>\n",
       "      <th></th>\n",
       "      <th></th>\n",
       "      <th></th>\n",
       "    </tr>\n",
       "  </thead>\n",
       "  <tbody>\n",
       "    <tr>\n",
       "      <th>2018-01-01 03:30:00+00:00</th>\n",
       "      <td>NaN</td>\n",
       "      <td>NaN</td>\n",
       "      <td>NaN</td>\n",
       "      <td>NaN</td>\n",
       "      <td>NaN</td>\n",
       "      <td>NaN</td>\n",
       "      <td>NaN</td>\n",
       "      <td>NaN</td>\n",
       "      <td>NaN</td>\n",
       "      <td>NaN</td>\n",
       "      <td>...</td>\n",
       "      <td>NaN</td>\n",
       "      <td>NaN</td>\n",
       "      <td>NaN</td>\n",
       "      <td>NaN</td>\n",
       "      <td>NaN</td>\n",
       "      <td>NaN</td>\n",
       "      <td>NaN</td>\n",
       "      <td>NaN</td>\n",
       "      <td>NaN</td>\n",
       "      <td>NaN</td>\n",
       "    </tr>\n",
       "    <tr>\n",
       "      <th>2018-01-01 03:35:00+00:00</th>\n",
       "      <td>NaN</td>\n",
       "      <td>NaN</td>\n",
       "      <td>NaN</td>\n",
       "      <td>NaN</td>\n",
       "      <td>NaN</td>\n",
       "      <td>NaN</td>\n",
       "      <td>NaN</td>\n",
       "      <td>NaN</td>\n",
       "      <td>NaN</td>\n",
       "      <td>NaN</td>\n",
       "      <td>...</td>\n",
       "      <td>NaN</td>\n",
       "      <td>NaN</td>\n",
       "      <td>NaN</td>\n",
       "      <td>NaN</td>\n",
       "      <td>NaN</td>\n",
       "      <td>NaN</td>\n",
       "      <td>NaN</td>\n",
       "      <td>NaN</td>\n",
       "      <td>NaN</td>\n",
       "      <td>NaN</td>\n",
       "    </tr>\n",
       "    <tr>\n",
       "      <th>2018-01-01 03:40:00+00:00</th>\n",
       "      <td>NaN</td>\n",
       "      <td>NaN</td>\n",
       "      <td>NaN</td>\n",
       "      <td>NaN</td>\n",
       "      <td>NaN</td>\n",
       "      <td>NaN</td>\n",
       "      <td>NaN</td>\n",
       "      <td>NaN</td>\n",
       "      <td>NaN</td>\n",
       "      <td>NaN</td>\n",
       "      <td>...</td>\n",
       "      <td>NaN</td>\n",
       "      <td>NaN</td>\n",
       "      <td>NaN</td>\n",
       "      <td>NaN</td>\n",
       "      <td>NaN</td>\n",
       "      <td>NaN</td>\n",
       "      <td>NaN</td>\n",
       "      <td>NaN</td>\n",
       "      <td>NaN</td>\n",
       "      <td>NaN</td>\n",
       "    </tr>\n",
       "    <tr>\n",
       "      <th>2018-01-01 03:45:00+00:00</th>\n",
       "      <td>NaN</td>\n",
       "      <td>NaN</td>\n",
       "      <td>NaN</td>\n",
       "      <td>NaN</td>\n",
       "      <td>NaN</td>\n",
       "      <td>NaN</td>\n",
       "      <td>NaN</td>\n",
       "      <td>NaN</td>\n",
       "      <td>NaN</td>\n",
       "      <td>NaN</td>\n",
       "      <td>...</td>\n",
       "      <td>NaN</td>\n",
       "      <td>NaN</td>\n",
       "      <td>NaN</td>\n",
       "      <td>NaN</td>\n",
       "      <td>NaN</td>\n",
       "      <td>NaN</td>\n",
       "      <td>NaN</td>\n",
       "      <td>NaN</td>\n",
       "      <td>NaN</td>\n",
       "      <td>NaN</td>\n",
       "    </tr>\n",
       "    <tr>\n",
       "      <th>2018-01-01 03:50:00+00:00</th>\n",
       "      <td>NaN</td>\n",
       "      <td>NaN</td>\n",
       "      <td>NaN</td>\n",
       "      <td>NaN</td>\n",
       "      <td>NaN</td>\n",
       "      <td>NaN</td>\n",
       "      <td>NaN</td>\n",
       "      <td>NaN</td>\n",
       "      <td>NaN</td>\n",
       "      <td>NaN</td>\n",
       "      <td>...</td>\n",
       "      <td>NaN</td>\n",
       "      <td>NaN</td>\n",
       "      <td>NaN</td>\n",
       "      <td>NaN</td>\n",
       "      <td>NaN</td>\n",
       "      <td>NaN</td>\n",
       "      <td>NaN</td>\n",
       "      <td>NaN</td>\n",
       "      <td>NaN</td>\n",
       "      <td>NaN</td>\n",
       "    </tr>\n",
       "  </tbody>\n",
       "</table>\n",
       "<p>5 rows × 1008 columns</p>\n",
       "</div>"
      ],
      "text/plain": [
       "                           690    709    794    973    1364   1556   1627   \\\n",
       "datetime                                                                     \n",
       "2018-01-01 03:30:00+00:00    NaN    NaN    NaN    NaN    NaN    NaN    NaN   \n",
       "2018-01-01 03:35:00+00:00    NaN    NaN    NaN    NaN    NaN    NaN    NaN   \n",
       "2018-01-01 03:40:00+00:00    NaN    NaN    NaN    NaN    NaN    NaN    NaN   \n",
       "2018-01-01 03:45:00+00:00    NaN    NaN    NaN    NaN    NaN    NaN    NaN   \n",
       "2018-01-01 03:50:00+00:00    NaN    NaN    NaN    NaN    NaN    NaN    NaN   \n",
       "\n",
       "                           1646   1647   1872   ...  68000  68212  68218  \\\n",
       "datetime                                        ...                        \n",
       "2018-01-01 03:30:00+00:00    NaN    NaN    NaN  ...    NaN    NaN    NaN   \n",
       "2018-01-01 03:35:00+00:00    NaN    NaN    NaN  ...    NaN    NaN    NaN   \n",
       "2018-01-01 03:40:00+00:00    NaN    NaN    NaN  ...    NaN    NaN    NaN   \n",
       "2018-01-01 03:45:00+00:00    NaN    NaN    NaN  ...    NaN    NaN    NaN   \n",
       "2018-01-01 03:50:00+00:00    NaN    NaN    NaN  ...    NaN    NaN    NaN   \n",
       "\n",
       "                           68219  68303  68324  68404  68443  68800  68846  \n",
       "datetime                                                                    \n",
       "2018-01-01 03:30:00+00:00    NaN    NaN    NaN    NaN    NaN    NaN    NaN  \n",
       "2018-01-01 03:35:00+00:00    NaN    NaN    NaN    NaN    NaN    NaN    NaN  \n",
       "2018-01-01 03:40:00+00:00    NaN    NaN    NaN    NaN    NaN    NaN    NaN  \n",
       "2018-01-01 03:45:00+00:00    NaN    NaN    NaN    NaN    NaN    NaN    NaN  \n",
       "2018-01-01 03:50:00+00:00    NaN    NaN    NaN    NaN    NaN    NaN    NaN  \n",
       "\n",
       "[5 rows x 1008 columns]"
      ]
     },
     "execution_count": 7,
     "metadata": {},
     "output_type": "execute_result"
    }
   ],
   "source": [
    "pv_power_df.head()"
   ]
  },
  {
   "cell_type": "code",
   "execution_count": 8,
   "metadata": {},
   "outputs": [],
   "source": [
    "# Drop systems (in-place) without PV data and metadata\n",
    "src.features.preprocessing.filter_to_power_metadata_match(pv_metadata_df, pv_power_df)"
   ]
  },
  {
   "cell_type": "code",
   "execution_count": 9,
   "metadata": {},
   "outputs": [],
   "source": [
    "# make clearsky GHI object\n",
    "latitude, longitude = pv_metadata_df.loc[pv_power_df.columns, ['latitude', 'longitude']].values.T\n",
    "ghiscalar = src.features.transformers.ClearskyScalar(latitude, longitude, g0=10)\n",
    "\n",
    "# filter data to daylight hours (in-place)\n",
    "ghiscalar.filter_to_daylight(pv_power_df, min_ghi=20, inplace=True)"
   ]
  },
  {
   "cell_type": "code",
   "execution_count": 10,
   "metadata": {},
   "outputs": [],
   "source": [
    "# drop systems with no daylight\n",
    "pv_power_df = pv_power_df.dropna(axis=0, how='all')\n",
    "src.features.preprocessing.filter_to_power_metadata_match(pv_metadata_df, pv_power_df)"
   ]
  },
  {
   "cell_type": "code",
   "execution_count": 11,
   "metadata": {},
   "outputs": [],
   "source": [
    "# scale by max power output\n",
    "rminmax = src.features.transformers.RobustMinMaxScaler(saturation_fraction=0.01)\n",
    "pv_prop_max_df = rminmax.fit_transform(pv_power_df)"
   ]
  },
  {
   "cell_type": "markdown",
   "metadata": {},
   "source": [
    "For the satellite and NWP data we will set the loaders to take more than we want. This means we can subset from this for the different networks we train."
   ]
  },
  {
   "cell_type": "markdown",
   "metadata": {},
   "source": [
    "### Choosing NWP channels to load\n",
    "<a id='nwp_channels'></a>"
   ]
  },
  {
   "cell_type": "code",
   "execution_count": 13,
   "metadata": {},
   "outputs": [],
   "source": [
    "nwp_channels = ['dswrf']"
   ]
  },
  {
   "cell_type": "code",
   "execution_count": 14,
   "metadata": {},
   "outputs": [],
   "source": [
    "# set up NWP loader with some obvious seeming channels (this takes a minute or two)\n",
    "nwploader = src.data.nwp_loader.NWPLoader(height=22000, width=22000, channels=nwp_channels)"
   ]
  },
  {
   "cell_type": "code",
   "execution_count": 28,
   "metadata": {},
   "outputs": [],
   "source": [
    "sat_channels=[]"
   ]
  },
  {
   "cell_type": "markdown",
   "metadata": {},
   "source": [
    "### Defining shuffle\n",
    "<a id='define_shuffle'></a>"
   ]
  },
  {
   "cell_type": "code",
   "execution_count": 15,
   "metadata": {},
   "outputs": [],
   "source": [
    "y_train_time, y_test_time = src.features.preprocessing.train_test_split_day(pv_prop_max_df, 0.2, shuffle=True, seed=9321749)\n",
    "\n",
    "from sklearn.model_selection import train_test_split\n",
    "train_columns, test_columns= train_test_split(pv_prop_max_df.columns, test_size=0.2, random_state=87321)\n",
    "\n",
    "# different systems and different times\n",
    "y_train = y_train_time.reindex(columns=train_columns, copy=False)\n",
    "y_test_systemtime = y_test_time.reindex(columns=test_columns, copy=False)"
   ]
  },
  {
   "cell_type": "code",
   "execution_count": 16,
   "metadata": {},
   "outputs": [],
   "source": [
    "y_meta_train = pv_metadata_df.reindex(y_train.columns, copy=False)"
   ]
  },
  {
   "cell_type": "code",
   "execution_count": 17,
   "metadata": {},
   "outputs": [
    {
     "data": {
      "text/html": [
       "<div>\n",
       "<style scoped>\n",
       "    .dataframe tbody tr th:only-of-type {\n",
       "        vertical-align: middle;\n",
       "    }\n",
       "\n",
       "    .dataframe tbody tr th {\n",
       "        vertical-align: top;\n",
       "    }\n",
       "\n",
       "    .dataframe thead th {\n",
       "        text-align: right;\n",
       "    }\n",
       "</style>\n",
       "<table border=\"1\" class=\"dataframe\">\n",
       "  <thead>\n",
       "    <tr style=\"text-align: right;\">\n",
       "      <th></th>\n",
       "      <th>36338</th>\n",
       "      <th>19334</th>\n",
       "      <th>37237</th>\n",
       "      <th>2976</th>\n",
       "      <th>15972</th>\n",
       "      <th>59014</th>\n",
       "      <th>2221</th>\n",
       "      <th>18283</th>\n",
       "      <th>10078</th>\n",
       "      <th>2871</th>\n",
       "      <th>...</th>\n",
       "      <th>54014</th>\n",
       "      <th>13216</th>\n",
       "      <th>37723</th>\n",
       "      <th>1647</th>\n",
       "      <th>23440</th>\n",
       "      <th>18483</th>\n",
       "      <th>24486</th>\n",
       "      <th>34165</th>\n",
       "      <th>56414</th>\n",
       "      <th>42939</th>\n",
       "    </tr>\n",
       "    <tr>\n",
       "      <th>datetime</th>\n",
       "      <th></th>\n",
       "      <th></th>\n",
       "      <th></th>\n",
       "      <th></th>\n",
       "      <th></th>\n",
       "      <th></th>\n",
       "      <th></th>\n",
       "      <th></th>\n",
       "      <th></th>\n",
       "      <th></th>\n",
       "      <th></th>\n",
       "      <th></th>\n",
       "      <th></th>\n",
       "      <th></th>\n",
       "      <th></th>\n",
       "      <th></th>\n",
       "      <th></th>\n",
       "      <th></th>\n",
       "      <th></th>\n",
       "      <th></th>\n",
       "      <th></th>\n",
       "    </tr>\n",
       "  </thead>\n",
       "  <tbody>\n",
       "    <tr>\n",
       "      <th>2018-01-01 08:35:00+00:00</th>\n",
       "      <td>NaN</td>\n",
       "      <td>NaN</td>\n",
       "      <td>NaN</td>\n",
       "      <td>NaN</td>\n",
       "      <td>NaN</td>\n",
       "      <td>NaN</td>\n",
       "      <td>NaN</td>\n",
       "      <td>NaN</td>\n",
       "      <td>NaN</td>\n",
       "      <td>NaN</td>\n",
       "      <td>...</td>\n",
       "      <td>NaN</td>\n",
       "      <td>NaN</td>\n",
       "      <td>NaN</td>\n",
       "      <td>NaN</td>\n",
       "      <td>NaN</td>\n",
       "      <td>NaN</td>\n",
       "      <td>NaN</td>\n",
       "      <td>NaN</td>\n",
       "      <td>NaN</td>\n",
       "      <td>NaN</td>\n",
       "    </tr>\n",
       "    <tr>\n",
       "      <th>2018-01-01 08:40:00+00:00</th>\n",
       "      <td>NaN</td>\n",
       "      <td>NaN</td>\n",
       "      <td>NaN</td>\n",
       "      <td>NaN</td>\n",
       "      <td>NaN</td>\n",
       "      <td>NaN</td>\n",
       "      <td>NaN</td>\n",
       "      <td>NaN</td>\n",
       "      <td>NaN</td>\n",
       "      <td>NaN</td>\n",
       "      <td>...</td>\n",
       "      <td>NaN</td>\n",
       "      <td>NaN</td>\n",
       "      <td>NaN</td>\n",
       "      <td>NaN</td>\n",
       "      <td>NaN</td>\n",
       "      <td>NaN</td>\n",
       "      <td>0.011092</td>\n",
       "      <td>0.052731</td>\n",
       "      <td>NaN</td>\n",
       "      <td>NaN</td>\n",
       "    </tr>\n",
       "    <tr>\n",
       "      <th>2018-01-01 08:45:00+00:00</th>\n",
       "      <td>NaN</td>\n",
       "      <td>NaN</td>\n",
       "      <td>NaN</td>\n",
       "      <td>0.000000</td>\n",
       "      <td>NaN</td>\n",
       "      <td>NaN</td>\n",
       "      <td>NaN</td>\n",
       "      <td>NaN</td>\n",
       "      <td>NaN</td>\n",
       "      <td>0.002584</td>\n",
       "      <td>...</td>\n",
       "      <td>NaN</td>\n",
       "      <td>NaN</td>\n",
       "      <td>NaN</td>\n",
       "      <td>NaN</td>\n",
       "      <td>NaN</td>\n",
       "      <td>NaN</td>\n",
       "      <td>0.012591</td>\n",
       "      <td>0.073446</td>\n",
       "      <td>NaN</td>\n",
       "      <td>NaN</td>\n",
       "    </tr>\n",
       "    <tr>\n",
       "      <th>2018-01-01 08:50:00+00:00</th>\n",
       "      <td>NaN</td>\n",
       "      <td>NaN</td>\n",
       "      <td>NaN</td>\n",
       "      <td>0.000000</td>\n",
       "      <td>NaN</td>\n",
       "      <td>NaN</td>\n",
       "      <td>0.020513</td>\n",
       "      <td>NaN</td>\n",
       "      <td>NaN</td>\n",
       "      <td>0.004799</td>\n",
       "      <td>...</td>\n",
       "      <td>NaN</td>\n",
       "      <td>NaN</td>\n",
       "      <td>NaN</td>\n",
       "      <td>NaN</td>\n",
       "      <td>NaN</td>\n",
       "      <td>NaN</td>\n",
       "      <td>0.014090</td>\n",
       "      <td>0.073446</td>\n",
       "      <td>NaN</td>\n",
       "      <td>NaN</td>\n",
       "    </tr>\n",
       "    <tr>\n",
       "      <th>2018-01-01 08:55:00+00:00</th>\n",
       "      <td>NaN</td>\n",
       "      <td>NaN</td>\n",
       "      <td>0.003759</td>\n",
       "      <td>0.005059</td>\n",
       "      <td>0.007874</td>\n",
       "      <td>NaN</td>\n",
       "      <td>NaN</td>\n",
       "      <td>NaN</td>\n",
       "      <td>NaN</td>\n",
       "      <td>0.008859</td>\n",
       "      <td>...</td>\n",
       "      <td>NaN</td>\n",
       "      <td>NaN</td>\n",
       "      <td>NaN</td>\n",
       "      <td>NaN</td>\n",
       "      <td>NaN</td>\n",
       "      <td>NaN</td>\n",
       "      <td>0.013790</td>\n",
       "      <td>0.077213</td>\n",
       "      <td>NaN</td>\n",
       "      <td>NaN</td>\n",
       "    </tr>\n",
       "    <tr>\n",
       "      <th>...</th>\n",
       "      <td>...</td>\n",
       "      <td>...</td>\n",
       "      <td>...</td>\n",
       "      <td>...</td>\n",
       "      <td>...</td>\n",
       "      <td>...</td>\n",
       "      <td>...</td>\n",
       "      <td>...</td>\n",
       "      <td>...</td>\n",
       "      <td>...</td>\n",
       "      <td>...</td>\n",
       "      <td>...</td>\n",
       "      <td>...</td>\n",
       "      <td>...</td>\n",
       "      <td>...</td>\n",
       "      <td>...</td>\n",
       "      <td>...</td>\n",
       "      <td>...</td>\n",
       "      <td>...</td>\n",
       "      <td>...</td>\n",
       "      <td>...</td>\n",
       "    </tr>\n",
       "    <tr>\n",
       "      <th>2019-08-19 19:05:00+00:00</th>\n",
       "      <td>NaN</td>\n",
       "      <td>NaN</td>\n",
       "      <td>NaN</td>\n",
       "      <td>NaN</td>\n",
       "      <td>NaN</td>\n",
       "      <td>NaN</td>\n",
       "      <td>NaN</td>\n",
       "      <td>NaN</td>\n",
       "      <td>NaN</td>\n",
       "      <td>NaN</td>\n",
       "      <td>...</td>\n",
       "      <td>NaN</td>\n",
       "      <td>NaN</td>\n",
       "      <td>NaN</td>\n",
       "      <td>NaN</td>\n",
       "      <td>NaN</td>\n",
       "      <td>NaN</td>\n",
       "      <td>NaN</td>\n",
       "      <td>NaN</td>\n",
       "      <td>NaN</td>\n",
       "      <td>NaN</td>\n",
       "    </tr>\n",
       "    <tr>\n",
       "      <th>2019-08-19 19:10:00+00:00</th>\n",
       "      <td>NaN</td>\n",
       "      <td>NaN</td>\n",
       "      <td>NaN</td>\n",
       "      <td>NaN</td>\n",
       "      <td>NaN</td>\n",
       "      <td>NaN</td>\n",
       "      <td>NaN</td>\n",
       "      <td>NaN</td>\n",
       "      <td>NaN</td>\n",
       "      <td>NaN</td>\n",
       "      <td>...</td>\n",
       "      <td>NaN</td>\n",
       "      <td>NaN</td>\n",
       "      <td>NaN</td>\n",
       "      <td>NaN</td>\n",
       "      <td>NaN</td>\n",
       "      <td>NaN</td>\n",
       "      <td>NaN</td>\n",
       "      <td>NaN</td>\n",
       "      <td>NaN</td>\n",
       "      <td>NaN</td>\n",
       "    </tr>\n",
       "    <tr>\n",
       "      <th>2019-08-19 19:15:00+00:00</th>\n",
       "      <td>0.021868</td>\n",
       "      <td>NaN</td>\n",
       "      <td>NaN</td>\n",
       "      <td>NaN</td>\n",
       "      <td>NaN</td>\n",
       "      <td>NaN</td>\n",
       "      <td>NaN</td>\n",
       "      <td>NaN</td>\n",
       "      <td>NaN</td>\n",
       "      <td>NaN</td>\n",
       "      <td>...</td>\n",
       "      <td>NaN</td>\n",
       "      <td>NaN</td>\n",
       "      <td>NaN</td>\n",
       "      <td>NaN</td>\n",
       "      <td>NaN</td>\n",
       "      <td>NaN</td>\n",
       "      <td>NaN</td>\n",
       "      <td>NaN</td>\n",
       "      <td>NaN</td>\n",
       "      <td>NaN</td>\n",
       "    </tr>\n",
       "    <tr>\n",
       "      <th>2019-08-19 19:20:00+00:00</th>\n",
       "      <td>NaN</td>\n",
       "      <td>NaN</td>\n",
       "      <td>NaN</td>\n",
       "      <td>NaN</td>\n",
       "      <td>NaN</td>\n",
       "      <td>NaN</td>\n",
       "      <td>NaN</td>\n",
       "      <td>NaN</td>\n",
       "      <td>NaN</td>\n",
       "      <td>NaN</td>\n",
       "      <td>...</td>\n",
       "      <td>NaN</td>\n",
       "      <td>NaN</td>\n",
       "      <td>NaN</td>\n",
       "      <td>NaN</td>\n",
       "      <td>NaN</td>\n",
       "      <td>NaN</td>\n",
       "      <td>NaN</td>\n",
       "      <td>NaN</td>\n",
       "      <td>NaN</td>\n",
       "      <td>NaN</td>\n",
       "    </tr>\n",
       "    <tr>\n",
       "      <th>2019-08-19 19:25:00+00:00</th>\n",
       "      <td>NaN</td>\n",
       "      <td>NaN</td>\n",
       "      <td>NaN</td>\n",
       "      <td>NaN</td>\n",
       "      <td>NaN</td>\n",
       "      <td>NaN</td>\n",
       "      <td>NaN</td>\n",
       "      <td>NaN</td>\n",
       "      <td>NaN</td>\n",
       "      <td>NaN</td>\n",
       "      <td>...</td>\n",
       "      <td>NaN</td>\n",
       "      <td>NaN</td>\n",
       "      <td>NaN</td>\n",
       "      <td>NaN</td>\n",
       "      <td>NaN</td>\n",
       "      <td>NaN</td>\n",
       "      <td>NaN</td>\n",
       "      <td>NaN</td>\n",
       "      <td>NaN</td>\n",
       "      <td>NaN</td>\n",
       "    </tr>\n",
       "  </tbody>\n",
       "</table>\n",
       "<p>72065 rows × 802 columns</p>\n",
       "</div>"
      ],
      "text/plain": [
       "                              36338  19334     37237     2976      15972  \\\n",
       "datetime                                                                   \n",
       "2018-01-01 08:35:00+00:00       NaN    NaN       NaN       NaN       NaN   \n",
       "2018-01-01 08:40:00+00:00       NaN    NaN       NaN       NaN       NaN   \n",
       "2018-01-01 08:45:00+00:00       NaN    NaN       NaN  0.000000       NaN   \n",
       "2018-01-01 08:50:00+00:00       NaN    NaN       NaN  0.000000       NaN   \n",
       "2018-01-01 08:55:00+00:00       NaN    NaN  0.003759  0.005059  0.007874   \n",
       "...                             ...    ...       ...       ...       ...   \n",
       "2019-08-19 19:05:00+00:00       NaN    NaN       NaN       NaN       NaN   \n",
       "2019-08-19 19:10:00+00:00       NaN    NaN       NaN       NaN       NaN   \n",
       "2019-08-19 19:15:00+00:00  0.021868    NaN       NaN       NaN       NaN   \n",
       "2019-08-19 19:20:00+00:00       NaN    NaN       NaN       NaN       NaN   \n",
       "2019-08-19 19:25:00+00:00       NaN    NaN       NaN       NaN       NaN   \n",
       "\n",
       "                           59014     2221   18283  10078     2871   ...  \\\n",
       "datetime                                                            ...   \n",
       "2018-01-01 08:35:00+00:00    NaN       NaN    NaN    NaN       NaN  ...   \n",
       "2018-01-01 08:40:00+00:00    NaN       NaN    NaN    NaN       NaN  ...   \n",
       "2018-01-01 08:45:00+00:00    NaN       NaN    NaN    NaN  0.002584  ...   \n",
       "2018-01-01 08:50:00+00:00    NaN  0.020513    NaN    NaN  0.004799  ...   \n",
       "2018-01-01 08:55:00+00:00    NaN       NaN    NaN    NaN  0.008859  ...   \n",
       "...                          ...       ...    ...    ...       ...  ...   \n",
       "2019-08-19 19:05:00+00:00    NaN       NaN    NaN    NaN       NaN  ...   \n",
       "2019-08-19 19:10:00+00:00    NaN       NaN    NaN    NaN       NaN  ...   \n",
       "2019-08-19 19:15:00+00:00    NaN       NaN    NaN    NaN       NaN  ...   \n",
       "2019-08-19 19:20:00+00:00    NaN       NaN    NaN    NaN       NaN  ...   \n",
       "2019-08-19 19:25:00+00:00    NaN       NaN    NaN    NaN       NaN  ...   \n",
       "\n",
       "                           54014  13216  37723  1647   23440  18483     24486  \\\n",
       "datetime                                                                        \n",
       "2018-01-01 08:35:00+00:00    NaN    NaN    NaN    NaN    NaN    NaN       NaN   \n",
       "2018-01-01 08:40:00+00:00    NaN    NaN    NaN    NaN    NaN    NaN  0.011092   \n",
       "2018-01-01 08:45:00+00:00    NaN    NaN    NaN    NaN    NaN    NaN  0.012591   \n",
       "2018-01-01 08:50:00+00:00    NaN    NaN    NaN    NaN    NaN    NaN  0.014090   \n",
       "2018-01-01 08:55:00+00:00    NaN    NaN    NaN    NaN    NaN    NaN  0.013790   \n",
       "...                          ...    ...    ...    ...    ...    ...       ...   \n",
       "2019-08-19 19:05:00+00:00    NaN    NaN    NaN    NaN    NaN    NaN       NaN   \n",
       "2019-08-19 19:10:00+00:00    NaN    NaN    NaN    NaN    NaN    NaN       NaN   \n",
       "2019-08-19 19:15:00+00:00    NaN    NaN    NaN    NaN    NaN    NaN       NaN   \n",
       "2019-08-19 19:20:00+00:00    NaN    NaN    NaN    NaN    NaN    NaN       NaN   \n",
       "2019-08-19 19:25:00+00:00    NaN    NaN    NaN    NaN    NaN    NaN       NaN   \n",
       "\n",
       "                              34165  56414  42939  \n",
       "datetime                                           \n",
       "2018-01-01 08:35:00+00:00       NaN    NaN    NaN  \n",
       "2018-01-01 08:40:00+00:00  0.052731    NaN    NaN  \n",
       "2018-01-01 08:45:00+00:00  0.073446    NaN    NaN  \n",
       "2018-01-01 08:50:00+00:00  0.073446    NaN    NaN  \n",
       "2018-01-01 08:55:00+00:00  0.077213    NaN    NaN  \n",
       "...                             ...    ...    ...  \n",
       "2019-08-19 19:05:00+00:00       NaN    NaN    NaN  \n",
       "2019-08-19 19:10:00+00:00       NaN    NaN    NaN  \n",
       "2019-08-19 19:15:00+00:00       NaN    NaN    NaN  \n",
       "2019-08-19 19:20:00+00:00       NaN    NaN    NaN  \n",
       "2019-08-19 19:25:00+00:00       NaN    NaN    NaN  \n",
       "\n",
       "[72065 rows x 802 columns]"
      ]
     },
     "execution_count": 17,
     "metadata": {},
     "output_type": "execute_result"
    }
   ],
   "source": [
    "y_train"
   ]
  },
  {
   "cell_type": "markdown",
   "metadata": {},
   "source": [
    "Lets have a quick go at training a neural network"
   ]
  },
  {
   "cell_type": "markdown",
   "metadata": {},
   "source": [
    "### Defining network factory function\n",
    "<a id='network_factory'></a>"
   ]
  },
  {
   "cell_type": "code",
   "execution_count": 18,
   "metadata": {},
   "outputs": [],
   "source": [
    "import torch.nn as nn\n",
    "import torch.nn.functional as F\n",
    "import torch.optim as optim\n",
    "import time\n",
    "import torch"
   ]
  },
  {
   "cell_type": "code",
   "execution_count": 19,
   "metadata": {},
   "outputs": [],
   "source": [
    "def conv_output_size(H_in, kernel_size, padding, dilation, stride):\n",
    "    return int((H_in+2*padding - dilation * (kernel_size-1)-1)/stride + 1)"
   ]
  },
  {
   "cell_type": "code",
   "execution_count": 20,
   "metadata": {},
   "outputs": [],
   "source": [
    "# modification of version from notebook 006. Now with fraction-of-year and lat-lon\n",
    "class Net(nn.Module):\n",
    "    def __init__(self, net_sat_channels, \n",
    "                 net_nwp_channels, \n",
    "                 conv_hidden_units,\n",
    "                 image_side_length = 11,\n",
    "                 include_tod=True, \n",
    "                 include_toy=False, \n",
    "                 include_latlon=False,\n",
    "                 conv_kernel_size=5, \n",
    "                 fc_hidden_units=[1], \n",
    "                 conv_batchnorm=False,\n",
    "                 fc_batchnorm=False,\n",
    "                 activation=nn.LeakyReLU(),\n",
    "                 output_activation=F.relu,\n",
    "                 dropout_frac=0.):\n",
    "        \n",
    "        self.config = dict(\n",
    "                 net_sat_channels=net_sat_channels, \n",
    "                 net_nwp_channels=net_nwp_channels, \n",
    "                 conv_hidden_units=conv_hidden_units,\n",
    "                 image_side_length=image_side_length,\n",
    "                 include_tod=include_tod,\n",
    "                 include_toy=include_toy,\n",
    "                 include_latlon=include_latlon,\n",
    "                 conv_kernel_size=conv_kernel_size, \n",
    "                 fc_hidden_units=fc_hidden_units, \n",
    "                 conv_batchnorm=conv_batchnorm,\n",
    "                 fc_batchnorm=fc_batchnorm,\n",
    "                 activation=str(activation),\n",
    "                 output_activation=str(output_activation),\n",
    "                 dropout_frac=dropout_frac\n",
    "        )\n",
    "        \n",
    "        super(Net, self).__init__()\n",
    "        #nn.Dropout2d ()\n",
    "        # save channel indexes\n",
    "        self.sat_indexes = [i for i, channel in enumerate(sat_channels) if channel in net_sat_channels]\n",
    "        self.nwp_indexes = [i for i, channel in enumerate(nwp_channels) if channel in net_nwp_channels]\n",
    "        \n",
    "        self.conv_hidden_units = conv_hidden_units\n",
    "        self.conv_batchnorm = conv_batchnorm\n",
    "        \n",
    "        self.fc_hidden_units = fc_hidden_units\n",
    "        self.fc_batchnorm = fc_batchnorm\n",
    "        \n",
    "        self.dropout_frac = dropout_frac\n",
    "        self.activation = activation\n",
    "        self.output_activation = output_activation\n",
    "        \n",
    "        self.include_tod = include_tod\n",
    "        self.include_toy = include_toy\n",
    "        self.include_latlon = include_latlon\n",
    "\n",
    "        # set up convolutional layers\n",
    "        if len(conv_hidden_units)>0:\n",
    "            self.convs = [nn.Conv2d(in_channels=len(net_sat_channels)+len(net_nwp_channels), \n",
    "                                    out_channels=self.conv_hidden_units[0],\n",
    "                                    kernel_size=conv_kernel_size)]\n",
    "            self.convs.extend([nn.Conv2d(in_channels=self.conv_hidden_units[i-1], \n",
    "                                    out_channels=self.conv_hidden_units[i],\n",
    "                                    kernel_size=conv_kernel_size)\n",
    "                         for i in range(1,len(self.conv_hidden_units))])\n",
    "        \n",
    "        #  set up convolutional batch-norms\n",
    "        if conv_batchnorm:\n",
    "            self.conv_norm = [nn.BatchNorm2d(c) for c in conv_hidden_units]\n",
    "        \n",
    "        # keep track of convolutional image size\n",
    "        self.image_sizes = [image_side_length]\n",
    "        for i in range(len(conv_hidden_units)):\n",
    "            self.image_sizes.append(conv_output_size(self.image_sizes[-1], conv_kernel_size, 0, 1, 1))\n",
    "        \n",
    "        # set up fully connected layers\n",
    "        if len(fc_hidden_units)>0:\n",
    "            # calculate the zeroth number of nodes\n",
    "            if (len(self.sat_indexes) + len(self.nwp_indexes))>0:\n",
    "                h0 = self.image_sizes[-1]**2*self.conv_hidden_units[-1]\n",
    "            else:\n",
    "                h0 = 0\n",
    "            h0 += include_tod + include_toy + 2*include_latlon\n",
    "            self.fc = [nn.Linear(h0, fc_hidden_units[0])] \n",
    "            self.fc.extend([nn.Linear(fc_hidden_units[i-1], fc_hidden_units[i]) for i in range(1,len(fc_hidden_units))])\n",
    "            \n",
    "        # set up convolutional batch norms\n",
    "        if fc_batchnorm:\n",
    "            self.fc_norm = [nn.BatchNorm1d(h) for h in fc_hidden_units]\n",
    "        \n",
    "        \n",
    "        if dropout_frac>0:\n",
    "            self.dropout = nn.Dropout(p=dropout_frac)\n",
    "            \n",
    "        # compile layers\n",
    "        l = []\n",
    "        if len(conv_hidden_units)>0: l+=self.convs\n",
    "        if conv_batchnorm:           l+= self.conv_norm\n",
    "        if len(fc_hidden_units)>0:   l+=self.fc\n",
    "        if fc_batchnorm:             l+=self.fc_norm\n",
    "        \n",
    "        self.module_list = nn.ModuleList(l)\n",
    "\n",
    "\n",
    "    def forward(self, batch):\n",
    "        \n",
    "        if (len(self.sat_indexes) + len(self.nwp_indexes))>0:\n",
    "            if len(self.sat_indexes)>0 and len(self.nwp_indexes)>0:\n",
    "                x = torch.cat((batch['satellite'][:,self.sat_indexes], batch['nwp'][:, self.nwp_indexes]), dim=1)\n",
    "            elif len(self.sat_indexes)>0:\n",
    "                x = batch['satellite'][:,self.sat_indexes]\n",
    "            elif len(self.nwp_indexes)>0:\n",
    "                x = batch['nwp'][:, self.nwp_indexes]\n",
    "\n",
    "            for i in range(len(self.convs)):\n",
    "                x = self.convs[i](x)\n",
    "                if self.conv_batchnorm:\n",
    "                    x = self.conv_norm[i](x)\n",
    "                if self.dropout_frac>0:\n",
    "                    x = self.dropout(x)\n",
    "                x = self.activation(x)\n",
    "\n",
    "            data = [x.view(x.shape[0], -1)]\n",
    "\n",
    "        else:\n",
    "            data = []\n",
    "            \n",
    "        if self.include_tod: data.append(batch['day_fraction'].view(-1,1))\n",
    "        if self.include_toy: data.append(batch['year_fraction'].view(-1,1))\n",
    "        if self.include_latlon: data.append(batch['latlon'].view(-1,2))\n",
    "\n",
    "        if len(data)>1:\n",
    "            x = torch.cat(data, dim=1)\n",
    "        else:\n",
    "            x = data[0]\n",
    "\n",
    "        for i in range(len(self.fc)):\n",
    "            x = self.fc[i](x)\n",
    "            if i!=len(self.fc)-1:\n",
    "                if self.conv_batchnorm:\n",
    "                    x = self.fc_norm[i](x)\n",
    "                if self.dropout_frac>0:\n",
    "                    x = self.dropout(x)\n",
    "                x = self.activation(x)\n",
    "                \n",
    "        x = self.output_activation(x)\n",
    "        \n",
    "        return x"
   ]
  },
  {
   "cell_type": "code",
   "execution_count": 21,
   "metadata": {},
   "outputs": [],
   "source": [
    "MSE_LOSS_FUNC = nn.MSELoss()\n",
    "MAE_LOSS_FUNC = nn.L1Loss()\n",
    "MODEL_DUMP_ROOT = os.path.expanduser('~/model_dump/012')\n",
    "\n",
    "class net_container:\n",
    "    def __init__(self, net, optimizer, loss_func=nn.MSELoss(), run_name=None):\n",
    "        self.net = net\n",
    "        self.optimizer = optimizer\n",
    "        self.loss_func = loss_func\n",
    "        self.run_name = run_name\n",
    "        \n",
    "        self.running_train_loss = 0\n",
    "        self.running_train_mse = 0\n",
    "        self.running_train_mae = 0\n",
    "        \n",
    "        self.train_losses = []\n",
    "        self.train_mse_losses = []\n",
    "        self.train_mae_losses = []\n",
    "        \n",
    "        self.test_losses = []\n",
    "        self.test_mse_losses = []\n",
    "        self.test_mae_losses = []\n",
    "        self.batch = []\n",
    "        self.time_elapsed = []\n",
    "        \n",
    "    \n",
    "    def train_step(self, batch, batch_number):\n",
    "        \n",
    "        # zero the parameter gradients\n",
    "        self.optimizer.zero_grad()\n",
    "\n",
    "        # forward + backward + optimize\n",
    "        self.net.train()\n",
    "        \n",
    "        outputs = self.net(batch)\n",
    "        train_loss = self.loss_func(outputs, batch['y'])\n",
    "        self.running_train_loss += train_loss.item()\n",
    "        \n",
    "        train_loss.backward()\n",
    "        self.optimizer.step()\n",
    "        \n",
    "        # MAE\n",
    "        train_mae = MAE_LOSS_FUNC(outputs, batch['y'])\n",
    "        self.running_train_mae += train_mae.item()\n",
    "        \n",
    "        # MSE\n",
    "        train_mse = MSE_LOSS_FUNC(outputs, batch['y'])\n",
    "        self.running_train_mse += train_mse.item()\n",
    "\n",
    "        # print statistics\n",
    "        if batch_number == 0 or batch_number % STATS_PERIOD == STATS_PERIOD - 1:    # print every STATS_PERIOD mini-batches\n",
    "\n",
    "            # Train loss\n",
    "            if batch_number == 0:\n",
    "                mean_train_loss = self.running_train_loss\n",
    "                mean_train_mse = self.running_train_mse\n",
    "                mean_train_mae = self.running_train_mae\n",
    "                self.t0 = time.time()\n",
    "            else:\n",
    "                mean_train_loss = self.running_train_loss / STATS_PERIOD\n",
    "                mean_train_mse = self.running_train_mse / STATS_PERIOD\n",
    "                mean_train_mae = self.running_train_mae / STATS_PERIOD\n",
    "\n",
    "            self.train_losses.append(mean_train_loss)\n",
    "            self.train_mse_losses.append(mean_train_mse)\n",
    "            self.train_mae_losses.append(mean_train_mae)\n",
    "            \n",
    "            self.running_train_loss = 0.\n",
    "            self.running_train_mse = 0.\n",
    "            self.running_train_mae = 0.\n",
    "\n",
    "            # Test loss\n",
    "            self.net.eval()\n",
    "            test_outputs = self.net(test_batch)\n",
    "            \n",
    "            test_loss = self.loss_func(test_outputs, test_batch['y']).item()\n",
    "            self.test_losses.append(test_loss)\n",
    "            test_mae = MAE_LOSS_FUNC(test_outputs, test_batch['y']).item()\n",
    "            self.test_mae_losses.append(test_mae)\n",
    "            test_mse = MSE_LOSS_FUNC(test_outputs, test_batch['y']).item()\n",
    "            self.test_mse_losses.append(test_mse)\n",
    "            \n",
    "            self.batch.append(batch_number)\n",
    "            self.time_elapsed.append(time.time() - self.t0)\n",
    "            \n",
    "            if self.run_name:\n",
    "                thisdir = os.path.join(MODEL_DUMP_ROOT, self.run_name)\n",
    "                if batch_number==0:\n",
    "                    \n",
    "                    os.system(f\"rm -rf {thisdir}\")\n",
    "                    os.makedirs(os.path.join(thisdir, \"figures\"))\n",
    "                    \n",
    "                    with open(os.path.join(thisdir, 'config.json'), 'w') as f:\n",
    "                        json.dump(self.net.config, f, indent=4)\n",
    "                              \n",
    "                df = pd.DataFrame({\n",
    "                    'time_elapsed':self.time_elapsed,\n",
    "                    'batch':self.batch,\n",
    "                    'train_loss':self.train_losses,\n",
    "                    'train_mse':self.train_mse_losses,\n",
    "                    'train_mae':self.train_mae_losses,\n",
    "                    'test_loss':self.test_losses,\n",
    "                    'test_mse':self.test_mse_losses,\n",
    "                    'test_mae':self.test_mae_losses,\n",
    "                }).to_csv(os.path.join(thisdir, 'training_stats.csv'))\n",
    "                \n",
    "                if test_loss == min(self.test_losses):\n",
    "                    torch.save(self.net, os.path.join(thisdir, 'best_model.pkl'))\n",
    "                    "
   ]
  },
  {
   "cell_type": "markdown",
   "metadata": {},
   "source": [
    "### Set up batch loader\n",
    "<a id='loader'></a>\n",
    "\n",
    "Need to reduce the number of batches to load in a superbatch due to increasing the size of the sat & NWP rectangles"
   ]
  },
  {
   "cell_type": "code",
   "execution_count": 24,
   "metadata": {},
   "outputs": [],
   "source": [
    "# create training batch generator\n",
    "batch_generator = src.data.batch_loader.cross_processor_batch(\n",
    "            y_train, \n",
    "            y_meta_train, \n",
    "            clearsky=None,\n",
    "            sat_loader=None,\n",
    "            nwp_loader=nwploader,\n",
    "            include_tod=True,\n",
    "            include_toy=True, \n",
    "            include_latlon=True,\n",
    "            lead_time=pd.Timedelta('0 days 00:00:00'),\n",
    "            batch_size=256,\n",
    "            batches_per_superbatch=100,\n",
    "            n_superbatches=None, \n",
    "            n_epochs=3, \n",
    "            gpu=1,\n",
    "            samples_per_datetime=50,\n",
    "            parallel_loading_cores=2)"
   ]
  },
  {
   "cell_type": "code",
   "execution_count": 25,
   "metadata": {},
   "outputs": [
    {
     "name": "stdout",
     "output_type": "stream",
     "text": [
      "CPU times: user 2min 9s, sys: 5.98 s, total: 2min 15s\n",
      "Wall time: 2min 18s\n"
     ]
    }
   ],
   "source": [
    "# Grab a test batch!\n",
    "# This may take a minute or two.\n",
    "test_batch_generator = src.data.batch_loader.cross_processor_batch(\n",
    "            y_test_systemtime, \n",
    "            pv_metadata_df.reindex(y_test_systemtime.columns, copy=False), \n",
    "            clearsky=None,\n",
    "            sat_loader=None,\n",
    "            nwp_loader=nwploader,\n",
    "            include_tod=True,\n",
    "            include_toy=True, \n",
    "            include_latlon=True,\n",
    "            lead_time=pd.Timedelta('0 days 00:00:00'),\n",
    "            batch_size=2000,\n",
    "            batches_per_superbatch=1, \n",
    "            n_superbatches=1, \n",
    "            n_epochs=None, \n",
    "            gpu=1,\n",
    "            samples_per_datetime=2,\n",
    "            parallel_loading_cores=2)\n",
    "\n",
    "%time test_batch = next(test_batch_generator)"
   ]
  },
  {
   "cell_type": "code",
   "execution_count": 26,
   "metadata": {},
   "outputs": [],
   "source": [
    "test_batch = {k:v[...,0] if k!='y' else v for k,v in test_batch.items()}"
   ]
  },
  {
   "cell_type": "markdown",
   "metadata": {},
   "source": [
    "### Create first round of networks\n",
    "<a id='nets1'></a>"
   ]
  },
  {
   "cell_type": "code",
   "execution_count": 35,
   "metadata": {},
   "outputs": [],
   "source": [
    "image_side=11\n",
    "kernel_size=5\n",
    "\n",
    "def create_satnwp_small_net(sat_channels, nwp_channels):\n",
    "    return Net(\n",
    "           sat_channels,\n",
    "           nwp_channels, \n",
    "           include_tod=True,\n",
    "           include_toy=True, \n",
    "           include_latlon=False,\n",
    "           conv_hidden_units=[10],\n",
    "           image_side_length=image_side,\n",
    "           conv_kernel_size=kernel_size,\n",
    "           fc_hidden_units=[20,6,1],\n",
    "           conv_batchnorm=True,\n",
    "           fc_batchnorm=True,\n",
    "           activation=nn.LeakyReLU(),\n",
    "           output_activation=F.relu,\n",
    "           dropout_frac=0.\n",
    "    ).cuda().half()\n",
    "\n",
    "\n",
    "def create_satnwp_bigger_net(sat_channels, nwp_channels):\n",
    "    return Net(\n",
    "           sat_channels,\n",
    "           nwp_channels, \n",
    "           include_tod=True,\n",
    "           include_toy=True, \n",
    "           include_latlon=False,\n",
    "           conv_hidden_units=[100, 20],\n",
    "           image_side_length=image_side,\n",
    "           conv_kernel_size=kernel_size,\n",
    "           fc_hidden_units=[100, 20, 1],\n",
    "           conv_batchnorm=True,\n",
    "           fc_batchnorm=True,\n",
    "           activation=nn.LeakyReLU(),\n",
    "           output_activation=F.relu,\n",
    "           dropout_frac=0.\n",
    "    ).cuda().half()\n",
    "\n",
    "\n",
    "nwp_small_net = create_satnwp_small_net([], ['dswrf'])\n",
    "nwp_big_net = create_satnwp_bigger_net([], ['dswrf'])"
   ]
  },
  {
   "cell_type": "code",
   "execution_count": 36,
   "metadata": {},
   "outputs": [
    {
     "data": {
      "text/plain": [
       "Net(\n",
       "  (activation): LeakyReLU(negative_slope=0.01)\n",
       "  (module_list): ModuleList(\n",
       "    (0): Conv2d(1, 10, kernel_size=(5, 5), stride=(1, 1))\n",
       "    (1): BatchNorm2d(10, eps=1e-05, momentum=0.1, affine=True, track_running_stats=True)\n",
       "    (2): Linear(in_features=492, out_features=20, bias=True)\n",
       "    (3): Linear(in_features=20, out_features=6, bias=True)\n",
       "    (4): Linear(in_features=6, out_features=1, bias=True)\n",
       "    (5): BatchNorm1d(20, eps=1e-05, momentum=0.1, affine=True, track_running_stats=True)\n",
       "    (6): BatchNorm1d(6, eps=1e-05, momentum=0.1, affine=True, track_running_stats=True)\n",
       "    (7): BatchNorm1d(1, eps=1e-05, momentum=0.1, affine=True, track_running_stats=True)\n",
       "  )\n",
       ")"
      ]
     },
     "execution_count": 36,
     "metadata": {},
     "output_type": "execute_result"
    }
   ],
   "source": [
    "nwp_small_net"
   ]
  },
  {
   "cell_type": "code",
   "execution_count": 37,
   "metadata": {},
   "outputs": [],
   "source": [
    "def sgd_training_container(net, name):\n",
    "    return net_container(\n",
    "        net,\n",
    "        optimizer=optim.SGD(net.parameters(), lr=0.01, momentum=0.8), \n",
    "        loss_func=nn.MSELoss(),\n",
    "        run_name=name,\n",
    "    )"
   ]
  },
  {
   "cell_type": "code",
   "execution_count": 38,
   "metadata": {},
   "outputs": [],
   "source": [
    "containers = []\n",
    "for net, name in [\n",
    "                  (nwp_big_net, 'nwp_big'),\n",
    "                  (nwp_small_net, 'nwp_small'),\n",
    "                 ]:\n",
    "    containers.append(sgd_training_container(net, name))"
   ]
  },
  {
   "cell_type": "markdown",
   "metadata": {},
   "source": [
    "### Train first round of networks\n",
    "<a id='train1'></a>"
   ]
  },
  {
   "cell_type": "code",
   "execution_count": 39,
   "metadata": {},
   "outputs": [],
   "source": [
    "STATS_PERIOD = 100 # batch_generator.batches_per_superbatch"
   ]
  },
  {
   "cell_type": "code",
   "execution_count": 40,
   "metadata": {},
   "outputs": [
    {
     "name": "stdout",
     "output_type": "stream",
     "text": [
      "batch:412 | nwp_big                       o many times. Loading new.\r"
     ]
    },
    {
     "name": "stderr",
     "output_type": "stream",
     "text": [
      "/opt/conda/lib/python3.7/site-packages/torch/serialization.py:360: UserWarning: Couldn't retrieve source code for container of type Net. It won't be checked for correctness upon loading.\n",
      "  \"type \" + obj.__name__ + \". It won't be checked \"\n"
     ]
    },
    {
     "name": "stdout",
     "output_type": "stream",
     "text": [
      "batch:914 | nwp_small                     o many times. Loading new.\r"
     ]
    },
    {
     "name": "stderr",
     "output_type": "stream",
     "text": [
      "/opt/conda/lib/python3.7/site-packages/torch/serialization.py:360: UserWarning: Couldn't retrieve source code for container of type Net. It won't be checked for correctness upon loading.\n",
      "  \"type \" + obj.__name__ + \". It won't be checked \"\n"
     ]
    },
    {
     "name": "stdout",
     "output_type": "stream",
     "text": [
      "batch:1314 | nwp_big                       o many times. Loading new.\r"
     ]
    },
    {
     "name": "stderr",
     "output_type": "stream",
     "text": [
      "/opt/conda/lib/python3.7/site-packages/torch/serialization.py:360: UserWarning: Couldn't retrieve source code for container of type Net. It won't be checked for correctness upon loading.\n",
      "  \"type \" + obj.__name__ + \". It won't be checked \"\n"
     ]
    },
    {
     "name": "stdout",
     "output_type": "stream",
     "text": [
      "batch:1710 | nwp_big                       o many times. Loading new.\r"
     ]
    },
    {
     "name": "stderr",
     "output_type": "stream",
     "text": [
      "/opt/conda/lib/python3.7/site-packages/torch/serialization.py:360: UserWarning: Couldn't retrieve source code for container of type Net. It won't be checked for correctness upon loading.\n",
      "  \"type \" + obj.__name__ + \". It won't be checked \"\n"
     ]
    },
    {
     "name": "stdout",
     "output_type": "stream",
     "text": [
      "batch:2001 | nwp_small                     o many times. Loading new.\r"
     ]
    },
    {
     "name": "stderr",
     "output_type": "stream",
     "text": [
      "/opt/conda/lib/python3.7/site-packages/torch/serialization.py:360: UserWarning: Couldn't retrieve source code for container of type Net. It won't be checked for correctness upon loading.\n",
      "  \"type \" + obj.__name__ + \". It won't be checked \"\n"
     ]
    },
    {
     "name": "stdout",
     "output_type": "stream",
     "text": [
      "batch:2602 | nwp_big                       o many times. Loading new.\r"
     ]
    },
    {
     "name": "stderr",
     "output_type": "stream",
     "text": [
      "/opt/conda/lib/python3.7/site-packages/torch/serialization.py:360: UserWarning: Couldn't retrieve source code for container of type Net. It won't be checked for correctness upon loading.\n",
      "  \"type \" + obj.__name__ + \". It won't be checked \"\n"
     ]
    },
    {
     "name": "stdout",
     "output_type": "stream",
     "text": [
      "batch:3301 | nwp_small                     o many times. Loading new.\r"
     ]
    },
    {
     "name": "stderr",
     "output_type": "stream",
     "text": [
      "/opt/conda/lib/python3.7/site-packages/torch/serialization.py:360: UserWarning: Couldn't retrieve source code for container of type Net. It won't be checked for correctness upon loading.\n",
      "  \"type \" + obj.__name__ + \". It won't be checked \"\n"
     ]
    },
    {
     "name": "stdout",
     "output_type": "stream",
     "text": [
      "batch:3825 | nwp_small                     o many times. Loading new.\r"
     ]
    },
    {
     "name": "stderr",
     "output_type": "stream",
     "text": [
      "/opt/conda/lib/python3.7/site-packages/torch/serialization.py:360: UserWarning: Couldn't retrieve source code for container of type Net. It won't be checked for correctness upon loading.\n",
      "  \"type \" + obj.__name__ + \". It won't be checked \"\n"
     ]
    },
    {
     "name": "stdout",
     "output_type": "stream",
     "text": [
      "batch:5200 | nwp_big                       o many times. Loading new.\r"
     ]
    },
    {
     "name": "stderr",
     "output_type": "stream",
     "text": [
      "/opt/conda/lib/python3.7/site-packages/torch/serialization.py:360: UserWarning: Couldn't retrieve source code for container of type Net. It won't be checked for correctness upon loading.\n",
      "  \"type \" + obj.__name__ + \". It won't be checked \"\n"
     ]
    },
    {
     "name": "stdout",
     "output_type": "stream",
     "text": [
      "batch:6110 | nwp_small                     o many times. Loading new.\r"
     ]
    },
    {
     "name": "stderr",
     "output_type": "stream",
     "text": [
      "/opt/conda/lib/python3.7/site-packages/torch/serialization.py:360: UserWarning: Couldn't retrieve source code for container of type Net. It won't be checked for correctness upon loading.\n",
      "  \"type \" + obj.__name__ + \". It won't be checked \"\n"
     ]
    },
    {
     "name": "stdout",
     "output_type": "stream",
     "text": [
      "batch:6814 | nwp_small                     o many times. Loading new.\r"
     ]
    },
    {
     "name": "stderr",
     "output_type": "stream",
     "text": [
      "/opt/conda/lib/python3.7/site-packages/torch/serialization.py:360: UserWarning: Couldn't retrieve source code for container of type Net. It won't be checked for correctness upon loading.\n",
      "  \"type \" + obj.__name__ + \". It won't be checked \"\n"
     ]
    },
    {
     "name": "stdout",
     "output_type": "stream",
     "text": [
      "batch:7521 | nwp_big                       o many times. Loading new.\r"
     ]
    },
    {
     "name": "stderr",
     "output_type": "stream",
     "text": [
      "/opt/conda/lib/python3.7/site-packages/torch/serialization.py:360: UserWarning: Couldn't retrieve source code for container of type Net. It won't be checked for correctness upon loading.\n",
      "  \"type \" + obj.__name__ + \". It won't be checked \"\n"
     ]
    },
    {
     "name": "stdout",
     "output_type": "stream",
     "text": [
      "batch:8404 | nwp_small                     o many times. Loading new.\r"
     ]
    },
    {
     "name": "stderr",
     "output_type": "stream",
     "text": [
      "/opt/conda/lib/python3.7/site-packages/torch/serialization.py:360: UserWarning: Couldn't retrieve source code for container of type Net. It won't be checked for correctness upon loading.\n",
      "  \"type \" + obj.__name__ + \". It won't be checked \"\n"
     ]
    },
    {
     "name": "stdout",
     "output_type": "stream",
     "text": [
      "batch:8914 | nwp_small                     o many times. Loading new.\r"
     ]
    },
    {
     "name": "stderr",
     "output_type": "stream",
     "text": [
      "/opt/conda/lib/python3.7/site-packages/torch/serialization.py:360: UserWarning: Couldn't retrieve source code for container of type Net. It won't be checked for correctness upon loading.\n",
      "  \"type \" + obj.__name__ + \". It won't be checked \"\n"
     ]
    },
    {
     "name": "stdout",
     "output_type": "stream",
     "text": [
      "batch:9706 | nwp_big                       o many times. Loading new.\r"
     ]
    },
    {
     "name": "stderr",
     "output_type": "stream",
     "text": [
      "/opt/conda/lib/python3.7/site-packages/torch/serialization.py:360: UserWarning: Couldn't retrieve source code for container of type Net. It won't be checked for correctness upon loading.\n",
      "  \"type \" + obj.__name__ + \". It won't be checked \"\n"
     ]
    },
    {
     "name": "stdout",
     "output_type": "stream",
     "text": [
      "batch:12504 | nwp_small                     o many times. Loading new.\r"
     ]
    },
    {
     "name": "stderr",
     "output_type": "stream",
     "text": [
      "/opt/conda/lib/python3.7/site-packages/torch/serialization.py:360: UserWarning: Couldn't retrieve source code for container of type Net. It won't be checked for correctness upon loading.\n",
      "  \"type \" + obj.__name__ + \". It won't be checked \"\n"
     ]
    },
    {
     "name": "stdout",
     "output_type": "stream",
     "text": [
      "batch:13000 | nwp_small                     o many times. Loading new.\r"
     ]
    },
    {
     "name": "stderr",
     "output_type": "stream",
     "text": [
      "/opt/conda/lib/python3.7/site-packages/torch/serialization.py:360: UserWarning: Couldn't retrieve source code for container of type Net. It won't be checked for correctness upon loading.\n",
      "  \"type \" + obj.__name__ + \". It won't be checked \"\n"
     ]
    },
    {
     "name": "stdout",
     "output_type": "stream",
     "text": [
      "batch:13199 | nwp_small                     o many times. Loading new.\r"
     ]
    },
    {
     "name": "stderr",
     "output_type": "stream",
     "text": [
      "/opt/conda/lib/python3.7/site-packages/torch/serialization.py:360: UserWarning: Couldn't retrieve source code for container of type Net. It won't be checked for correctness upon loading.\n",
      "  \"type \" + obj.__name__ + \". It won't be checked \"\n"
     ]
    },
    {
     "name": "stdout",
     "output_type": "stream",
     "text": [
      "batch:13619 | nwp_small                     o many times. Loading new.\r"
     ]
    },
    {
     "name": "stderr",
     "output_type": "stream",
     "text": [
      "/opt/conda/lib/python3.7/site-packages/torch/serialization.py:360: UserWarning: Couldn't retrieve source code for container of type Net. It won't be checked for correctness upon loading.\n",
      "  \"type \" + obj.__name__ + \". It won't be checked \"\n"
     ]
    },
    {
     "name": "stdout",
     "output_type": "stream",
     "text": [
      "batch:14016 | nwp_small                     o many times. Loading new.\r"
     ]
    },
    {
     "name": "stderr",
     "output_type": "stream",
     "text": [
      "/opt/conda/lib/python3.7/site-packages/torch/serialization.py:360: UserWarning: Couldn't retrieve source code for container of type Net. It won't be checked for correctness upon loading.\n",
      "  \"type \" + obj.__name__ + \". It won't be checked \"\n"
     ]
    },
    {
     "name": "stdout",
     "output_type": "stream",
     "text": [
      "batch:15101 | nwp_small                     o many times. Loading new.\r"
     ]
    },
    {
     "name": "stderr",
     "output_type": "stream",
     "text": [
      "/opt/conda/lib/python3.7/site-packages/torch/serialization.py:360: UserWarning: Couldn't retrieve source code for container of type Net. It won't be checked for correctness upon loading.\n",
      "  \"type \" + obj.__name__ + \". It won't be checked \"\n"
     ]
    },
    {
     "name": "stdout",
     "output_type": "stream",
     "text": [
      "batch:17220 | nwp_small                     o many times. Loading new.\r"
     ]
    },
    {
     "name": "stderr",
     "output_type": "stream",
     "text": [
      "/opt/conda/lib/python3.7/site-packages/torch/serialization.py:360: UserWarning: Couldn't retrieve source code for container of type Net. It won't be checked for correctness upon loading.\n",
      "  \"type \" + obj.__name__ + \". It won't be checked \"\n"
     ]
    },
    {
     "name": "stdout",
     "output_type": "stream",
     "text": [
      "batch:20642 - reshuffled this super-batch too many times. Loading new.\r"
     ]
    },
    {
     "ename": "KeyboardInterrupt",
     "evalue": "",
     "output_type": "error",
     "traceback": [
      "\u001b[0;31m---------------------------------------------------------------------------\u001b[0m",
      "\u001b[0;31mKeyboardInterrupt\u001b[0m                         Traceback (most recent call last)",
      "\u001b[0;32m<ipython-input-40-e75beb06167c>\u001b[0m in \u001b[0;36m<module>\u001b[0;34m\u001b[0m\n\u001b[1;32m      2\u001b[0m \u001b[0mcurrent_shuffles\u001b[0m \u001b[0;34m=\u001b[0m \u001b[0;36m1\u001b[0m\u001b[0;34m\u001b[0m\u001b[0;34m\u001b[0m\u001b[0m\n\u001b[1;32m      3\u001b[0m \u001b[0;34m\u001b[0m\u001b[0m\n\u001b[0;32m----> 4\u001b[0;31m \u001b[0;32mfor\u001b[0m \u001b[0mi_batch\u001b[0m\u001b[0;34m,\u001b[0m \u001b[0mbatch\u001b[0m \u001b[0;32min\u001b[0m \u001b[0menumerate\u001b[0m\u001b[0;34m(\u001b[0m\u001b[0mbatch_generator\u001b[0m\u001b[0;34m)\u001b[0m\u001b[0;34m:\u001b[0m\u001b[0;34m\u001b[0m\u001b[0;34m\u001b[0m\u001b[0m\n\u001b[0m\u001b[1;32m      5\u001b[0m \u001b[0;34m\u001b[0m\u001b[0m\n\u001b[1;32m      6\u001b[0m     \u001b[0mbatch\u001b[0m \u001b[0;34m=\u001b[0m \u001b[0;34m{\u001b[0m\u001b[0mk\u001b[0m\u001b[0;34m:\u001b[0m\u001b[0mv\u001b[0m\u001b[0;34m[\u001b[0m\u001b[0;34m...\u001b[0m\u001b[0;34m,\u001b[0m\u001b[0;36m0\u001b[0m\u001b[0;34m]\u001b[0m \u001b[0;32mif\u001b[0m \u001b[0mk\u001b[0m\u001b[0;34m!=\u001b[0m\u001b[0;34m'y'\u001b[0m \u001b[0;32melse\u001b[0m \u001b[0mv\u001b[0m \u001b[0;32mfor\u001b[0m \u001b[0mk\u001b[0m\u001b[0;34m,\u001b[0m\u001b[0mv\u001b[0m \u001b[0;32min\u001b[0m \u001b[0mbatch\u001b[0m\u001b[0;34m.\u001b[0m\u001b[0mitems\u001b[0m\u001b[0;34m(\u001b[0m\u001b[0;34m)\u001b[0m\u001b[0;34m}\u001b[0m\u001b[0;34m\u001b[0m\u001b[0;34m\u001b[0m\u001b[0m\n",
      "\u001b[0;32m~/repos/predict_pv_yield/src/data/batch_loader.py\u001b[0m in \u001b[0;36m__next__\u001b[0;34m(self)\u001b[0m\n\u001b[1;32m    334\u001b[0m                 \u001b[0mself\u001b[0m\u001b[0;34m.\u001b[0m\u001b[0mindex_number\u001b[0m \u001b[0;34m=\u001b[0m \u001b[0;36m0\u001b[0m\u001b[0;34m\u001b[0m\u001b[0;34m\u001b[0m\u001b[0m\n\u001b[1;32m    335\u001b[0m \u001b[0;34m\u001b[0m\u001b[0m\n\u001b[0;32m--> 336\u001b[0;31m             \u001b[0mself\u001b[0m\u001b[0;34m.\u001b[0m\u001b[0mload_next_superbatch_to_cpu\u001b[0m\u001b[0;34m(\u001b[0m\u001b[0;34m)\u001b[0m\u001b[0;34m\u001b[0m\u001b[0;34m\u001b[0m\u001b[0m\n\u001b[0m\u001b[1;32m    337\u001b[0m             \u001b[0;32mif\u001b[0m \u001b[0mself\u001b[0m\u001b[0;34m.\u001b[0m\u001b[0mgpu\u001b[0m\u001b[0;34m==\u001b[0m\u001b[0;36m2\u001b[0m\u001b[0;34m:\u001b[0m\u001b[0;34m\u001b[0m\u001b[0;34m\u001b[0m\u001b[0m\n\u001b[1;32m    338\u001b[0m                 \u001b[0mself\u001b[0m\u001b[0;34m.\u001b[0m\u001b[0mtransfer_superbatch_to_gpu\u001b[0m\u001b[0;34m(\u001b[0m\u001b[0;34m)\u001b[0m\u001b[0;34m\u001b[0m\u001b[0;34m\u001b[0m\u001b[0m\n",
      "\u001b[0;32m~/repos/predict_pv_yield/src/data/batch_loader.py\u001b[0m in \u001b[0;36mload_next_superbatch_to_cpu\u001b[0;34m(self)\u001b[0m\n\u001b[1;32m    589\u001b[0m                     \u001b[0mthread\u001b[0m\u001b[0;34m.\u001b[0m\u001b[0mstart\u001b[0m\u001b[0;34m(\u001b[0m\u001b[0;34m)\u001b[0m\u001b[0;34m\u001b[0m\u001b[0;34m\u001b[0m\u001b[0m\n\u001b[1;32m    590\u001b[0m                 \u001b[0;32mfor\u001b[0m \u001b[0mthread\u001b[0m \u001b[0;32min\u001b[0m \u001b[0mthreads\u001b[0m\u001b[0;34m:\u001b[0m\u001b[0;34m\u001b[0m\u001b[0;34m\u001b[0m\u001b[0m\n\u001b[0;32m--> 591\u001b[0;31m                     \u001b[0mthread\u001b[0m\u001b[0;34m.\u001b[0m\u001b[0mjoin\u001b[0m\u001b[0;34m(\u001b[0m\u001b[0;34m)\u001b[0m\u001b[0;34m\u001b[0m\u001b[0;34m\u001b[0m\u001b[0m\n\u001b[0m\u001b[1;32m    592\u001b[0m             \u001b[0;32mfinally\u001b[0m\u001b[0;34m:\u001b[0m\u001b[0;34m\u001b[0m\u001b[0;34m\u001b[0m\u001b[0m\n\u001b[1;32m    593\u001b[0m                 \u001b[0mthread_exit\u001b[0m\u001b[0;34m.\u001b[0m\u001b[0mvalue\u001b[0m \u001b[0;34m=\u001b[0m \u001b[0;32mTrue\u001b[0m\u001b[0;34m\u001b[0m\u001b[0;34m\u001b[0m\u001b[0m\n",
      "\u001b[0;32m/opt/conda/lib/python3.7/threading.py\u001b[0m in \u001b[0;36mjoin\u001b[0;34m(self, timeout)\u001b[0m\n\u001b[1;32m   1042\u001b[0m \u001b[0;34m\u001b[0m\u001b[0m\n\u001b[1;32m   1043\u001b[0m         \u001b[0;32mif\u001b[0m \u001b[0mtimeout\u001b[0m \u001b[0;32mis\u001b[0m \u001b[0;32mNone\u001b[0m\u001b[0;34m:\u001b[0m\u001b[0;34m\u001b[0m\u001b[0;34m\u001b[0m\u001b[0m\n\u001b[0;32m-> 1044\u001b[0;31m             \u001b[0mself\u001b[0m\u001b[0;34m.\u001b[0m\u001b[0m_wait_for_tstate_lock\u001b[0m\u001b[0;34m(\u001b[0m\u001b[0;34m)\u001b[0m\u001b[0;34m\u001b[0m\u001b[0;34m\u001b[0m\u001b[0m\n\u001b[0m\u001b[1;32m   1045\u001b[0m         \u001b[0;32melse\u001b[0m\u001b[0;34m:\u001b[0m\u001b[0;34m\u001b[0m\u001b[0;34m\u001b[0m\u001b[0m\n\u001b[1;32m   1046\u001b[0m             \u001b[0;31m# the behavior of a negative timeout isn't documented, but\u001b[0m\u001b[0;34m\u001b[0m\u001b[0;34m\u001b[0m\u001b[0;34m\u001b[0m\u001b[0m\n",
      "\u001b[0;32m/opt/conda/lib/python3.7/threading.py\u001b[0m in \u001b[0;36m_wait_for_tstate_lock\u001b[0;34m(self, block, timeout)\u001b[0m\n\u001b[1;32m   1058\u001b[0m         \u001b[0;32mif\u001b[0m \u001b[0mlock\u001b[0m \u001b[0;32mis\u001b[0m \u001b[0;32mNone\u001b[0m\u001b[0;34m:\u001b[0m  \u001b[0;31m# already determined that the C code is done\u001b[0m\u001b[0;34m\u001b[0m\u001b[0;34m\u001b[0m\u001b[0m\n\u001b[1;32m   1059\u001b[0m             \u001b[0;32massert\u001b[0m \u001b[0mself\u001b[0m\u001b[0;34m.\u001b[0m\u001b[0m_is_stopped\u001b[0m\u001b[0;34m\u001b[0m\u001b[0;34m\u001b[0m\u001b[0m\n\u001b[0;32m-> 1060\u001b[0;31m         \u001b[0;32melif\u001b[0m \u001b[0mlock\u001b[0m\u001b[0;34m.\u001b[0m\u001b[0macquire\u001b[0m\u001b[0;34m(\u001b[0m\u001b[0mblock\u001b[0m\u001b[0;34m,\u001b[0m \u001b[0mtimeout\u001b[0m\u001b[0;34m)\u001b[0m\u001b[0;34m:\u001b[0m\u001b[0;34m\u001b[0m\u001b[0;34m\u001b[0m\u001b[0m\n\u001b[0m\u001b[1;32m   1061\u001b[0m             \u001b[0mlock\u001b[0m\u001b[0;34m.\u001b[0m\u001b[0mrelease\u001b[0m\u001b[0;34m(\u001b[0m\u001b[0;34m)\u001b[0m\u001b[0;34m\u001b[0m\u001b[0;34m\u001b[0m\u001b[0m\n\u001b[1;32m   1062\u001b[0m             \u001b[0mself\u001b[0m\u001b[0;34m.\u001b[0m\u001b[0m_stop\u001b[0m\u001b[0;34m(\u001b[0m\u001b[0;34m)\u001b[0m\u001b[0;34m\u001b[0m\u001b[0;34m\u001b[0m\u001b[0m\n",
      "\u001b[0;31mKeyboardInterrupt\u001b[0m: "
     ]
    }
   ],
   "source": [
    "shuffles_per_superbatch = 4\n",
    "current_shuffles = 1\n",
    "\n",
    "for i_batch, batch in enumerate(batch_generator):\n",
    "    \n",
    "    batch = {k:v[...,0] if k!='y' else v for k,v in batch.items()}\n",
    "    for container in containers:\n",
    "        print(f'batch:{i_batch:03} | {container.run_name:30s}\\r', end=\"\")\n",
    "        container.train_step(batch, i_batch)\n",
    "        \n",
    "    # if we have got to end of superbatch reshuffle\n",
    "    if batch_generator.batch_index==(batch_generator.batches_per_superbatch-1):\n",
    "        # but only if we haven't already shuffled so mnay times\n",
    "        if current_shuffles < shuffles_per_superbatch:\n",
    "            batch_generator.shuffle_cpu_superbatch()\n",
    "            if batch_generator.gpu==2: batch_generator.transfer_superbatch_to_gpu()\n",
    "            batch_generator.batch_index = 0\n",
    "            current_shuffles+=1\n",
    "        # if we have shiuffled our limit of times then update shuffle tally\n",
    "        elif current_shuffles >= shuffles_per_superbatch:\n",
    "            print(f'batch:{i_batch} - reshuffled this super-batch too many times. Loading new.\\r', end=\"\")\n",
    "            current_shuffles = 1\n",
    "\n",
    "\n",
    "print('\\nFinished Training')"
   ]
  },
  {
   "cell_type": "markdown",
   "metadata": {},
   "source": [
    "### Evaluate first round of networks\n",
    "<a id='results1'></a>"
   ]
  },
  {
   "cell_type": "code",
   "execution_count": 41,
   "metadata": {},
   "outputs": [],
   "source": [
    "model_dumps = ['nwp_small', 'nwp_big']\n",
    "\n",
    "dfs = [pd.read_csv(f'~/model_dump/012/{model}/training_stats.csv', )\\\n",
    "                       .drop('Unnamed: 0', axis=1).set_index('batch')\\\n",
    "       for model in model_dumps]"
   ]
  },
  {
   "cell_type": "code",
   "execution_count": 42,
   "metadata": {},
   "outputs": [
    {
     "data": {
      "image/png": "[encoded data removed]",
      "text/plain": [
       "<Figure size 720x1440 with 4 Axes>"
      ]
     },
     "metadata": {
      "needs_background": "light"
     },
     "output_type": "display_data"
    }
   ],
   "source": [
    "from itertools import cycle\n",
    "prop_cycle = plt.rcParams['axes.prop_cycle']\n",
    "\n",
    "\n",
    "fig, axes = plt.subplots(4,1, sharex=True, figsize=(10,20))\n",
    "axes = axes.flatten()\n",
    "plot_metrics = ['time_elapsed', 'loss', 'mse', 'mae']\n",
    "\n",
    "for ax, metric in zip(axes, plot_metrics):\n",
    "    colors = cycle(prop_cycle.by_key()['color'])\n",
    "    \n",
    "    for i in range(len(model_dumps)):\n",
    "        c = next(colors)\n",
    "        if metric=='time_elapsed':\n",
    "            ax.plot(dfs[i].index, dfs[i][metric], label=model_dumps[i], color=c)\n",
    "        else:\n",
    "            ax.plot(dfs[i].index, dfs[i]['train_'+metric], linestyle='-.', color=c)\n",
    "            ax.plot(dfs[i].index, dfs[i]['test_'+metric], linestyle='-', label=model_dumps[i], color=c)\n",
    "    ax.set_xlabel('batch')\n",
    "    ax.set_ylabel(metric)\n",
    "ax.legend()\n",
    "plt.show()"
   ]
  },
  {
   "cell_type": "code",
   "execution_count": 43,
   "metadata": {},
   "outputs": [
    {
     "data": {
      "text/html": [
       "<div>\n",
       "<style scoped>\n",
       "    .dataframe tbody tr th:only-of-type {\n",
       "        vertical-align: middle;\n",
       "    }\n",
       "\n",
       "    .dataframe tbody tr th {\n",
       "        vertical-align: top;\n",
       "    }\n",
       "\n",
       "    .dataframe thead th {\n",
       "        text-align: right;\n",
       "    }\n",
       "</style>\n",
       "<table border=\"1\" class=\"dataframe\">\n",
       "  <thead>\n",
       "    <tr style=\"text-align: right;\">\n",
       "      <th></th>\n",
       "      <th>time_elapsed</th>\n",
       "      <th>train_loss</th>\n",
       "      <th>train_mse</th>\n",
       "      <th>train_mae</th>\n",
       "      <th>test_loss</th>\n",
       "      <th>test_mse</th>\n",
       "      <th>test_mae</th>\n",
       "    </tr>\n",
       "  </thead>\n",
       "  <tbody>\n",
       "    <tr>\n",
       "      <th>nwp_big</th>\n",
       "      <td>6121.416787</td>\n",
       "      <td>0.031588</td>\n",
       "      <td>0.031588</td>\n",
       "      <td>0.129252</td>\n",
       "      <td>0.033302</td>\n",
       "      <td>0.033302</td>\n",
       "      <td>0.135439</td>\n",
       "    </tr>\n",
       "    <tr>\n",
       "      <th>nwp_small</th>\n",
       "      <td>6121.307393</td>\n",
       "      <td>0.033057</td>\n",
       "      <td>0.033057</td>\n",
       "      <td>0.133393</td>\n",
       "      <td>0.034248</td>\n",
       "      <td>0.034248</td>\n",
       "      <td>0.138096</td>\n",
       "    </tr>\n",
       "  </tbody>\n",
       "</table>\n",
       "</div>"
      ],
      "text/plain": [
       "           time_elapsed  train_loss  train_mse  train_mae  test_loss  \\\n",
       "nwp_big     6121.416787    0.031588   0.031588   0.129252   0.033302   \n",
       "nwp_small   6121.307393    0.033057   0.033057   0.133393   0.034248   \n",
       "\n",
       "           test_mse  test_mae  \n",
       "nwp_big    0.033302  0.135439  \n",
       "nwp_small  0.034248  0.138096  "
      ]
     },
     "execution_count": 43,
     "metadata": {},
     "output_type": "execute_result"
    }
   ],
   "source": [
    "final_results_df = {}\n",
    "for i,model in enumerate(model_dumps):\n",
    "    df = dfs[i].iloc[-100:].mean()\n",
    "    for ind in df.index:\n",
    "        if ind in final_results_df.keys():\n",
    "            final_results_df[ind].append(df[ind])\n",
    "        else:\n",
    "            final_results_df[ind] = [df[ind]] \n",
    "pd.DataFrame(final_results_df, index=model_dumps).sort_values('test_loss')"
   ]
  },
  {
   "cell_type": "code",
   "execution_count": null,
   "metadata": {},
   "outputs": [],
   "source": []
  }
 ],
 "metadata": {
  "kernelspec": {
   "display_name": "Python 3",
   "language": "python",
   "name": "python3"
  },
  "language_info": {
   "codemirror_mode": {
    "name": "ipython",
    "version": 3
   },
   "file_extension": ".py",
   "mimetype": "text/x-python",
   "name": "python",
   "nbconvert_exporter": "python",
   "pygments_lexer": "ipython3",
   "version": "3.7.6"
  }
 },
 "nbformat": 4,
 "nbformat_minor": 4
}
